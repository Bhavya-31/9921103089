{
  "nbformat": 4,
  "nbformat_minor": 0,
  "metadata": {
    "colab": {
      "provenance": [],
      "authorship_tag": "ABX9TyOQHtmxjKkYWQSlMsLrggL7",
      "include_colab_link": true
    },
    "kernelspec": {
      "name": "python3",
      "display_name": "Python 3"
    },
    "language_info": {
      "name": "python"
    }
  },
  "cells": [
    {
      "cell_type": "markdown",
      "metadata": {
        "id": "view-in-github",
        "colab_type": "text"
      },
      "source": [
        "<a href=\"https://colab.research.google.com/github/Bhavya-31/9921103089/blob/main/EV_streamlit_App.ipynb\" target=\"_parent\"><img src=\"https://colab.research.google.com/assets/colab-badge.svg\" alt=\"Open In Colab\"/></a>"
      ]
    },
    {
      "cell_type": "code",
      "execution_count": 1,
      "metadata": {
        "colab": {
          "base_uri": "https://localhost:8080/"
        },
        "id": "jj-Qcm6vcAJ7",
        "outputId": "1f0035f1-fb45-47f6-ebb9-cad0975a4518"
      },
      "outputs": [
        {
          "output_type": "stream",
          "name": "stdout",
          "text": [
            "Collecting streamlit\n",
            "  Downloading streamlit-1.40.1-py2.py3-none-any.whl.metadata (8.5 kB)\n",
            "Collecting pyngrok\n",
            "  Downloading pyngrok-7.2.1-py3-none-any.whl.metadata (8.3 kB)\n",
            "Requirement already satisfied: altair<6,>=4.0 in /usr/local/lib/python3.10/dist-packages (from streamlit) (4.2.2)\n",
            "Requirement already satisfied: blinker<2,>=1.0.0 in /usr/lib/python3/dist-packages (from streamlit) (1.4)\n",
            "Requirement already satisfied: cachetools<6,>=4.0 in /usr/local/lib/python3.10/dist-packages (from streamlit) (5.5.0)\n",
            "Requirement already satisfied: click<9,>=7.0 in /usr/local/lib/python3.10/dist-packages (from streamlit) (8.1.7)\n",
            "Requirement already satisfied: numpy<3,>=1.20 in /usr/local/lib/python3.10/dist-packages (from streamlit) (1.26.4)\n",
            "Requirement already satisfied: packaging<25,>=20 in /usr/local/lib/python3.10/dist-packages (from streamlit) (24.1)\n",
            "Requirement already satisfied: pandas<3,>=1.4.0 in /usr/local/lib/python3.10/dist-packages (from streamlit) (2.2.2)\n",
            "Requirement already satisfied: pillow<12,>=7.1.0 in /usr/local/lib/python3.10/dist-packages (from streamlit) (10.4.0)\n",
            "Requirement already satisfied: protobuf<6,>=3.20 in /usr/local/lib/python3.10/dist-packages (from streamlit) (3.20.3)\n",
            "Requirement already satisfied: pyarrow>=7.0 in /usr/local/lib/python3.10/dist-packages (from streamlit) (17.0.0)\n",
            "Requirement already satisfied: requests<3,>=2.27 in /usr/local/lib/python3.10/dist-packages (from streamlit) (2.32.3)\n",
            "Requirement already satisfied: rich<14,>=10.14.0 in /usr/local/lib/python3.10/dist-packages (from streamlit) (13.9.4)\n",
            "Requirement already satisfied: tenacity<10,>=8.1.0 in /usr/local/lib/python3.10/dist-packages (from streamlit) (9.0.0)\n",
            "Requirement already satisfied: toml<2,>=0.10.1 in /usr/local/lib/python3.10/dist-packages (from streamlit) (0.10.2)\n",
            "Requirement already satisfied: typing-extensions<5,>=4.3.0 in /usr/local/lib/python3.10/dist-packages (from streamlit) (4.12.2)\n",
            "Requirement already satisfied: gitpython!=3.1.19,<4,>=3.0.7 in /usr/local/lib/python3.10/dist-packages (from streamlit) (3.1.43)\n",
            "Collecting pydeck<1,>=0.8.0b4 (from streamlit)\n",
            "  Downloading pydeck-0.9.1-py2.py3-none-any.whl.metadata (4.1 kB)\n",
            "Requirement already satisfied: tornado<7,>=6.0.3 in /usr/local/lib/python3.10/dist-packages (from streamlit) (6.3.3)\n",
            "Collecting watchdog<7,>=2.1.5 (from streamlit)\n",
            "  Downloading watchdog-6.0.0-py3-none-manylinux2014_x86_64.whl.metadata (44 kB)\n",
            "\u001b[2K     \u001b[90m━━━━━━━━━━━━━━━━━━━━━━━━━━━━━━━━━━━━━━━━\u001b[0m \u001b[32m44.3/44.3 kB\u001b[0m \u001b[31m1.3 MB/s\u001b[0m eta \u001b[36m0:00:00\u001b[0m\n",
            "\u001b[?25hRequirement already satisfied: PyYAML>=5.1 in /usr/local/lib/python3.10/dist-packages (from pyngrok) (6.0.2)\n",
            "Requirement already satisfied: entrypoints in /usr/local/lib/python3.10/dist-packages (from altair<6,>=4.0->streamlit) (0.4)\n",
            "Requirement already satisfied: jinja2 in /usr/local/lib/python3.10/dist-packages (from altair<6,>=4.0->streamlit) (3.1.4)\n",
            "Requirement already satisfied: jsonschema>=3.0 in /usr/local/lib/python3.10/dist-packages (from altair<6,>=4.0->streamlit) (4.23.0)\n",
            "Requirement already satisfied: toolz in /usr/local/lib/python3.10/dist-packages (from altair<6,>=4.0->streamlit) (0.12.1)\n",
            "Requirement already satisfied: gitdb<5,>=4.0.1 in /usr/local/lib/python3.10/dist-packages (from gitpython!=3.1.19,<4,>=3.0.7->streamlit) (4.0.11)\n",
            "Requirement already satisfied: python-dateutil>=2.8.2 in /usr/local/lib/python3.10/dist-packages (from pandas<3,>=1.4.0->streamlit) (2.8.2)\n",
            "Requirement already satisfied: pytz>=2020.1 in /usr/local/lib/python3.10/dist-packages (from pandas<3,>=1.4.0->streamlit) (2024.2)\n",
            "Requirement already satisfied: tzdata>=2022.7 in /usr/local/lib/python3.10/dist-packages (from pandas<3,>=1.4.0->streamlit) (2024.2)\n",
            "Requirement already satisfied: charset-normalizer<4,>=2 in /usr/local/lib/python3.10/dist-packages (from requests<3,>=2.27->streamlit) (3.4.0)\n",
            "Requirement already satisfied: idna<4,>=2.5 in /usr/local/lib/python3.10/dist-packages (from requests<3,>=2.27->streamlit) (3.10)\n",
            "Requirement already satisfied: urllib3<3,>=1.21.1 in /usr/local/lib/python3.10/dist-packages (from requests<3,>=2.27->streamlit) (2.2.3)\n",
            "Requirement already satisfied: certifi>=2017.4.17 in /usr/local/lib/python3.10/dist-packages (from requests<3,>=2.27->streamlit) (2024.8.30)\n",
            "Requirement already satisfied: markdown-it-py>=2.2.0 in /usr/local/lib/python3.10/dist-packages (from rich<14,>=10.14.0->streamlit) (3.0.0)\n",
            "Requirement already satisfied: pygments<3.0.0,>=2.13.0 in /usr/local/lib/python3.10/dist-packages (from rich<14,>=10.14.0->streamlit) (2.18.0)\n",
            "Requirement already satisfied: smmap<6,>=3.0.1 in /usr/local/lib/python3.10/dist-packages (from gitdb<5,>=4.0.1->gitpython!=3.1.19,<4,>=3.0.7->streamlit) (5.0.1)\n",
            "Requirement already satisfied: MarkupSafe>=2.0 in /usr/local/lib/python3.10/dist-packages (from jinja2->altair<6,>=4.0->streamlit) (3.0.2)\n",
            "Requirement already satisfied: attrs>=22.2.0 in /usr/local/lib/python3.10/dist-packages (from jsonschema>=3.0->altair<6,>=4.0->streamlit) (24.2.0)\n",
            "Requirement already satisfied: jsonschema-specifications>=2023.03.6 in /usr/local/lib/python3.10/dist-packages (from jsonschema>=3.0->altair<6,>=4.0->streamlit) (2024.10.1)\n",
            "Requirement already satisfied: referencing>=0.28.4 in /usr/local/lib/python3.10/dist-packages (from jsonschema>=3.0->altair<6,>=4.0->streamlit) (0.35.1)\n",
            "Requirement already satisfied: rpds-py>=0.7.1 in /usr/local/lib/python3.10/dist-packages (from jsonschema>=3.0->altair<6,>=4.0->streamlit) (0.20.1)\n",
            "Requirement already satisfied: mdurl~=0.1 in /usr/local/lib/python3.10/dist-packages (from markdown-it-py>=2.2.0->rich<14,>=10.14.0->streamlit) (0.1.2)\n",
            "Requirement already satisfied: six>=1.5 in /usr/local/lib/python3.10/dist-packages (from python-dateutil>=2.8.2->pandas<3,>=1.4.0->streamlit) (1.16.0)\n",
            "Downloading streamlit-1.40.1-py2.py3-none-any.whl (8.6 MB)\n",
            "\u001b[2K   \u001b[90m━━━━━━━━━━━━━━━━━━━━━━━━━━━━━━━━━━━━━━━━\u001b[0m \u001b[32m8.6/8.6 MB\u001b[0m \u001b[31m30.8 MB/s\u001b[0m eta \u001b[36m0:00:00\u001b[0m\n",
            "\u001b[?25hDownloading pyngrok-7.2.1-py3-none-any.whl (22 kB)\n",
            "Downloading pydeck-0.9.1-py2.py3-none-any.whl (6.9 MB)\n",
            "\u001b[2K   \u001b[90m━━━━━━━━━━━━━━━━━━━━━━━━━━━━━━━━━━━━━━━━\u001b[0m \u001b[32m6.9/6.9 MB\u001b[0m \u001b[31m80.4 MB/s\u001b[0m eta \u001b[36m0:00:00\u001b[0m\n",
            "\u001b[?25hDownloading watchdog-6.0.0-py3-none-manylinux2014_x86_64.whl (79 kB)\n",
            "\u001b[2K   \u001b[90m━━━━━━━━━━━━━━━━━━━━━━━━━━━━━━━━━━━━━━━━\u001b[0m \u001b[32m79.1/79.1 kB\u001b[0m \u001b[31m5.1 MB/s\u001b[0m eta \u001b[36m0:00:00\u001b[0m\n",
            "\u001b[?25hInstalling collected packages: watchdog, pyngrok, pydeck, streamlit\n",
            "Successfully installed pydeck-0.9.1 pyngrok-7.2.1 streamlit-1.40.1 watchdog-6.0.0\n"
          ]
        }
      ],
      "source": [
        "!pip install streamlit pyngrok\n"
      ]
    },
    {
      "cell_type": "code",
      "source": [
        "# Write the Streamlit app to app.py\n",
        "with open(\"app.py\", \"w\") as f:\n",
        "    f.write(\"\"\"\n",
        "import streamlit as st\n",
        "import pandas as pd\n",
        "import numpy as np\n",
        "import matplotlib.pyplot as plt\n",
        "from sklearn.ensemble import GradientBoostingClassifier, RandomForestRegressor\n",
        "from sklearn.linear_model import LinearRegression\n",
        "\n",
        "# Generate synthetic data for training models\n",
        "num_samples = 100\n",
        "temperature_data = np.random.uniform(20, 60, num_samples)\n",
        "charge_cycles_data = np.random.randint(100, 1000, num_samples)\n",
        "failure_labels = np.random.randint(0, 2, num_samples)  # 0 for stable, 1 for maintenance needed\n",
        "\n",
        "# Training data for predictive maintenance model\n",
        "X_maintenance = pd.DataFrame({'temperature': temperature_data, 'charge_cycles': charge_cycles_data})\n",
        "y_maintenance = failure_labels\n",
        "maintenance_model = GradientBoostingClassifier()\n",
        "maintenance_model.fit(X_maintenance, y_maintenance)\n",
        "\n",
        "# Synthetic data for thermal management model\n",
        "ambient_temperature_data = np.random.uniform(15, 35, num_samples)\n",
        "battery_usage_data = np.random.randint(100, 1000, num_samples)\n",
        "battery_temp_data = 0.7 * ambient_temperature_data + 0.3 * (battery_usage_data / 50) + np.random.normal(0, 2, num_samples)\n",
        "\n",
        "# Training data for thermal management model\n",
        "X_thermal = pd.DataFrame({'ambient_temperature': ambient_temperature_data, 'battery_usage': battery_usage_data})\n",
        "y_thermal = battery_temp_data\n",
        "thermal_model = LinearRegression()\n",
        "thermal_model.fit(X_thermal, y_thermal)\n",
        "\n",
        "# Synthetic data for optimized charging model\n",
        "distance_needed_data = np.random.uniform(10, 150, num_samples)\n",
        "battery_soc_data = np.random.uniform(20, 100, num_samples)\n",
        "optimal_charging_time_data = (150 - battery_soc_data) + (distance_needed_data * 0.2) + (35 - temperature_data) * 0.5 + np.random.normal(0, 5, num_samples)\n",
        "\n",
        "# Training data for optimized charging model\n",
        "X_charging = pd.DataFrame({'temperature': temperature_data, 'distance_needed': distance_needed_data, 'battery_soc': battery_soc_data})\n",
        "y_charging = optimal_charging_time_data\n",
        "charging_model = RandomForestRegressor()\n",
        "charging_model.fit(X_charging, y_charging)\n",
        "\n",
        "# Define the simulation functions\n",
        "def predictive_maintenance(battery_temp, charge_cycles, model):\n",
        "    input_data = pd.DataFrame({'temperature': [battery_temp], 'charge_cycles': [charge_cycles]})\n",
        "    maintenance_prediction = model.predict(input_data)[0]\n",
        "    return \"Maintenance Needed\" if maintenance_prediction == 1 else \"Battery Stable\"\n",
        "\n",
        "def thermal_management(ambient_temp, battery_usage, thermal_model):\n",
        "    input_data = pd.DataFrame({'ambient_temperature': [ambient_temp], 'battery_usage': [battery_usage]})\n",
        "    predicted_temp = thermal_model.predict(input_data)[0]\n",
        "    return (predicted_temp - 5, \"Cooling Activated\") if predicted_temp > 40 else (predicted_temp, \"No Cooling Needed\")\n",
        "\n",
        "def optimized_charging(temperature, distance_needed, battery_soc, charging_model):\n",
        "    input_data = pd.DataFrame({'temperature': [temperature], 'distance_needed': [distance_needed], 'battery_soc': [battery_soc]})\n",
        "    return charging_model.predict(input_data)[0]\n",
        "\n",
        "def v2g_integration(battery_level, grid_demand):\n",
        "    CHARGE_THRESHOLD = 20\n",
        "    GRID_ENERGY_PRICE = 0.15\n",
        "    PEER_ENERGY_PRICE = 0.10\n",
        "    if battery_level > CHARGE_THRESHOLD:\n",
        "        energy_contributed = min((battery_level - CHARGE_THRESHOLD) / 100 * 100, grid_demand)\n",
        "        revenue_from_grid = energy_contributed * GRID_ENERGY_PRICE\n",
        "        energy_to_peer = (battery_level - CHARGE_THRESHOLD) / 200 * 100\n",
        "        revenue_from_peer = energy_to_peer * PEER_ENERGY_PRICE\n",
        "        return revenue_from_grid, revenue_from_peer, \"Contributing to Grid and Peers\"\n",
        "    else:\n",
        "        return 0, 0, \"Battery below threshold; no contribution\"\n",
        "\n",
        "def ev_system_simulation(hour, ambient_temp, battery_usage, temperature, distance_needed, battery_soc, grid_demand):\n",
        "    maintenance_status = predictive_maintenance(temperature, battery_usage, maintenance_model)\n",
        "    battery_temp, cooling_status = thermal_management(ambient_temp, battery_usage, thermal_model)\n",
        "    optimal_charging_time = optimized_charging(temperature, distance_needed, battery_soc, charging_model)\n",
        "    revenue_from_grid, revenue_from_peer, v2g_status = v2g_integration(battery_soc, grid_demand)\n",
        "    return {\n",
        "        'hour': hour,\n",
        "        'maintenance_status': maintenance_status,\n",
        "        'battery_temp': battery_temp,\n",
        "        'cooling_status': cooling_status,\n",
        "        'optimal_charging_time': optimal_charging_time,\n",
        "        'revenue_from_grid': revenue_from_grid,\n",
        "        'revenue_from_peer': revenue_from_peer,\n",
        "        'v2g_status': v2g_status\n",
        "    }\n",
        "\n",
        "# Streamlit Interface\n",
        "st.title(\"EV Battery Optimization Dashboard\")\n",
        "\n",
        "st.sidebar.header(\"Input Parameters\")\n",
        "hour = 1\n",
        "ambient_temp = st.sidebar.slider(\"Ambient Temperature (°C)\", 15, 35, 25)\n",
        "battery_usage = st.sidebar.slider(\"Battery Usage (Charge Cycles)\", 100, 1000, 500)\n",
        "temperature = st.sidebar.slider(\"Battery Temperature (°C)\", 20, 60, 40)\n",
        "distance_needed = st.sidebar.slider(\"Distance Needed (km)\", 10, 150, 75)\n",
        "battery_soc = st.sidebar.slider(\"Battery State of Charge (%)\", 20, 100, 50)\n",
        "grid_demand = st.sidebar.slider(\"Grid Demand (kWh)\", 50, 150, 100)\n",
        "\n",
        "result = ev_system_simulation(\n",
        "    hour=hour,\n",
        "    ambient_temp=ambient_temp,\n",
        "    battery_usage=battery_usage,\n",
        "    temperature=temperature,\n",
        "    distance_needed=distance_needed,\n",
        "    battery_soc=battery_soc,\n",
        "    grid_demand=grid_demand\n",
        ")\n",
        "\n",
        "st.subheader(\"Simulation Results\")\n",
        "st.write(f\"Hour: {result['hour']}\")\n",
        "st.write(f\"Predictive Maintenance Status: {result['maintenance_status']}\")\n",
        "st.write(f\"Battery Temperature after Thermal Management: {result['battery_temp']:.2f}°C\")\n",
        "st.write(f\"Cooling Status: {result['cooling_status']}\")\n",
        "st.write(f\"Optimal Charging Time: {result['optimal_charging_time']:.2f} minutes\")\n",
        "st.write(f\"Revenue from Grid Contribution: ${result['revenue_from_grid']:.2f}\")\n",
        "st.write(f\"Revenue from Peer-to-Peer Contribution: ${result['revenue_from_peer']:.2f}\")\n",
        "st.write(f\"V2G Status: {result['v2g_status']}\")\n",
        "\n",
        "# Visualization\n",
        "st.subheader(\"Revenue Visualization\")\n",
        "fig, ax = plt.subplots()\n",
        "ax.bar(['Grid Revenue', 'Peer Revenue'], [result['revenue_from_grid'], result['revenue_from_peer']], color=['orange', 'purple'])\n",
        "ax.set_ylabel(\"Revenue ($)\")\n",
        "st.pyplot(fig)\n",
        "\"\"\")\n"
      ],
      "metadata": {
        "id": "6GVE1_KHcN9e"
      },
      "execution_count": 15,
      "outputs": []
    },
    {
      "cell_type": "code",
      "source": [
        "from pyngrok import ngrok\n",
        "\n",
        "# Replace 'YOUR_AUTH_TOKEN' with the actual authtoken you copied\n",
        "!ngrok config add-authtoken 2okaxnvQwzYJCRPZYWhrmhU7xD5_7W7nCTkNENYBRSJpnEz3a\n"
      ],
      "metadata": {
        "colab": {
          "base_uri": "https://localhost:8080/"
        },
        "id": "oJo48iefdmdO",
        "outputId": "18b5ba8f-a405-4c94-973a-2c7e05906104"
      },
      "execution_count": 4,
      "outputs": [
        {
          "output_type": "stream",
          "name": "stdout",
          "text": [
            "Authtoken saved to configuration file: /root/.config/ngrok/ngrok.yml\n"
          ]
        }
      ]
    },
    {
      "cell_type": "code",
      "source": [
        "from pyngrok import ngrok\n",
        "\n",
        "# Start ngrok with the correct protocol and port\n",
        "public_url = ngrok.connect(8501, \"http\")\n",
        "print(\"Streamlit app running at:\", public_url)\n",
        "\n",
        "# Run the Streamlit app and set host to 0.0.0.0 to allow external access\n",
        "!streamlit run app.py --server.address 0.0.0.0 --server.port 8501\n"
      ],
      "metadata": {
        "colab": {
          "base_uri": "https://localhost:8080/"
        },
        "id": "wcksOC0-dvUI",
        "outputId": "fe972d15-af1e-486f-f8cc-171d1edadbcd"
      },
      "execution_count": 16,
      "outputs": [
        {
          "output_type": "stream",
          "name": "stdout",
          "text": [
            "Streamlit app running at: NgrokTunnel: \"https://7be1-35-225-41-112.ngrok-free.app\" -> \"http://localhost:8501\"\n",
            "\n",
            "Collecting usage statistics. To deactivate, set browser.gatherUsageStats to false.\n",
            "\u001b[0m\n",
            "\u001b[0m\n",
            "\u001b[34m\u001b[1m  You can now view your Streamlit app in your browser.\u001b[0m\n",
            "\u001b[0m\n",
            "\u001b[34m  URL: \u001b[0m\u001b[1mhttp://0.0.0.0:8501\u001b[0m\n",
            "\u001b[0m\n"
          ]
        },
        {
          "output_type": "stream",
          "name": "stderr",
          "text": [
            "WARNING:pyngrok.process.ngrok:t=2024-11-12T14:43:23+0000 lvl=warn msg=\"Stopping forwarder\" name=http-8501-adb6235c-1030-4474-ac53-577932c58eb7 acceptErr=\"failed to accept connection: Listener closed\"\n",
            "WARNING:pyngrok.process.ngrok:t=2024-11-12T14:43:23+0000 lvl=warn msg=\"Error restarting forwarder\" name=http-8501-adb6235c-1030-4474-ac53-577932c58eb7 err=\"failed to start tunnel: session closed\"\n"
          ]
        },
        {
          "output_type": "stream",
          "name": "stdout",
          "text": [
            "\u001b[34m  Stopping...\u001b[0m\n",
            "\u001b[34m  Stopping...\u001b[0m\n"
          ]
        }
      ]
    }
  ]
}